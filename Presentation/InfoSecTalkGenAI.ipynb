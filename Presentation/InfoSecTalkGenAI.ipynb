{
 "cells": [
  {
   "cell_type": "markdown",
   "id": "92c5b6f9",
   "metadata": {},
   "source": [
    "# Section 1: Generative AI Basics"
   ]
  },
  {
   "cell_type": "markdown",
   "id": "e9e241e4",
   "metadata": {},
   "source": [
    "## Hello World Demo & Best Practices\n",
    "We'll begin with a simple 'Hello World' demo using **ChatGPT**. The demo will cover best practices, one of which is to avoid prompt injection. For example, user input should be delimited using three backticks to prevent bypassing input guardrails."
   ]
  },
  {
   "cell_type": "code",
   "execution_count": 1,
   "id": "a02771e2",
   "metadata": {
    "tags": []
   },
   "outputs": [
    {
     "name": "stdout",
     "output_type": "stream",
     "text": [
      "Summary: A customer purchased a panda plush toy for their daughter's birthday.\n"
     ]
    }
   ],
   "source": [
    "import openai\n",
    "import os\n",
    "\n",
    "# Load environment variables\n",
    "from dotenv import load_dotenv, find_dotenv\n",
    "_ = load_dotenv(find_dotenv()) \n",
    "\n",
    "# Initialize OpenAI API key\n",
    "openai.api_key  = os.getenv('OPENAI_API_KEY')\n",
    "\n",
    "# Function to get a completion from the OpenAI model\n",
    "def get_completion(prompt, model=\"gpt-3.5-turbo\"): \n",
    "    messages = [{\"role\": \"user\", \"content\": prompt}]\n",
    "    response = openai.ChatCompletion.create(\n",
    "        model=model,\n",
    "        messages=messages,\n",
    "        temperature=0, \n",
    "    )\n",
    "    return response.choices[0].message[\"content\"]\n",
    "\n",
    "# Sample product review\n",
    "prod_review = \"\"\"\n",
    "Got this panda plush toy for my daughter's birthday... \n",
    "\"\"\"\n",
    "# Sample prompt\n",
    "prompt = f\"\"\"\n",
    "Your task is to generate a short summary of a product \\\n",
    "review from an ecommerce site...\n",
    "\n",
    "Review: ```{prod_review}```\n",
    "\"\"\"\n",
    "\n",
    "# Get response from model\n",
    "response = get_completion(prompt)\n",
    "print(response)"
   ]
  },
  {
   "cell_type": "markdown",
   "id": "2ff1d515",
   "metadata": {},
   "source": [
    "## Understanding an LLMs Knowledge\n",
    "You may wonder, if ChatGPT isn't aware of GPT 4 because it is not aware of data past 2021, how can it reveal confidential information provided in 2023? The explanation lies in the **human feedback model**, a layer of reinforced learning on top of ChatGPT. This model refines the output, not by having your code, but by imitating the patterns in your code due to developer training."
   ]
  },
  {
   "cell_type": "markdown",
   "id": "1c924e18",
   "metadata": {},
   "source": [
    "## Data Supply Chain Security\n",
    "As we use generative AI for creating synthetic images and content, there's an increased risk of copyright infringement. It's essential for AI companies to carefully curate data and ensure all generated content is properly licensed. Consumers should also have contractual agreements to use such data."
   ]
  },
  {
   "cell_type": "markdown",
   "id": "4aa70779",
   "metadata": {},
   "source": [
    "## Embeddings: Extending Model Knowledge\n",
    "Embeddings allow us to extend the knowledge of an already trained model with external datasets, a process that doesn't require retraining the model. Key to this process is ensuring safe practices, including having data agreements and using secure cloud instances."
   ]
  },
  {
   "cell_type": "markdown",
   "id": "fa902b83",
   "metadata": {},
   "source": [
    "## The Embedding Process\n",
    "The embedding process involves encoding your data with an algorithm to make it readable by ChatGPT. After that, the model uses this information to answer queries based on user input. You can even embed reasoning or references into the prompt for more detailed responses."
   ]
  },
  {
   "cell_type": "markdown",
   "id": "277a4b00",
   "metadata": {},
   "source": [
    "## Detailed Example\n",
    "We will now delve into a detailed example that will illustrate these concepts further."
   ]
  },
  {
   "cell_type": "code",
   "execution_count": null,
   "id": "cb153d54",
   "metadata": {},
   "outputs": [
    {
     "ename": "ModuleNotFoundError",
     "evalue": "No module named 'gensim'",
     "output_type": "error",
     "traceback": [
      "\u001b[0;31m---------------------------------------------------------------------------\u001b[0m",
      "\u001b[0;31mModuleNotFoundError\u001b[0m                       Traceback (most recent call last)",
      "Cell \u001b[0;32mIn[2], line 3\u001b[0m\n\u001b[1;32m      1\u001b[0m \u001b[38;5;66;03m# Assuming that we have a word embedding model like Word2Vec or FastText\u001b[39;00m\n\u001b[1;32m      2\u001b[0m \u001b[38;5;66;03m# Let's load the model and show the embeddings for a word\u001b[39;00m\n\u001b[0;32m----> 3\u001b[0m \u001b[38;5;28;01mfrom\u001b[39;00m \u001b[38;5;21;01mgensim\u001b[39;00m\u001b[38;5;21;01m.\u001b[39;00m\u001b[38;5;21;01mmodels\u001b[39;00m \u001b[38;5;28;01mimport\u001b[39;00m Word2Vec\n\u001b[1;32m      5\u001b[0m model \u001b[38;5;241m=\u001b[39m Word2Vec\u001b[38;5;241m.\u001b[39mload(\u001b[38;5;124m'\u001b[39m\u001b[38;5;124mword2vec_model\u001b[39m\u001b[38;5;124m'\u001b[39m)\n\u001b[1;32m      6\u001b[0m word \u001b[38;5;241m=\u001b[39m \u001b[38;5;124m'\u001b[39m\u001b[38;5;124mpanda\u001b[39m\u001b[38;5;124m'\u001b[39m\n",
      "\u001b[0;31mModuleNotFoundError\u001b[0m: No module named 'gensim'"
     ]
    }
   ],
   "source": [
    "# Assuming that we have a word embedding model like Word2Vec or FastText\n",
    "# Let's load the model and show the embeddings for a word\n",
    "# from gensim.models import Word2Vec\n",
    "\n",
    "\n",
    "# model = Word2Vec.load('word2vec_model')\n",
    "# word = 'panda'\n",
    "# embedding = model.wv[word]\n",
    "\n",
    "# print(f'Embedding for the word \"{word}\": {embedding}')"
   ]
  },
  {
   "cell_type": "markdown",
   "id": "aa40406d",
   "metadata": {},
   "source": [
    "## Data Embedding for User Queries\n",
    "Suppose we have a travel website that holds extensive customer data such as usernames, addresses, passport details, and travel history. Using embeddings, we could use this data to respond to user queries like \"What flights are available?\" or \"I'd like to book a travel itinerary.\" "
   ]
  },
  {
   "cell_type": "markdown",
   "id": "6e288af9",
   "metadata": {},
   "source": [
    "## Potential Security Risks\n",
    "But, what could go wrong here? One issue is data privacy. If the model is given unrestricted access to all data, there's a risk of users or attackers gaining access to others' private data. Therefore, it's critical to feed the model only with the relevant data specific to a user query."
   ]
  },
  {
   "cell_type": "markdown",
   "id": "1e7250fa",
   "metadata": {},
   "source": [
    "## Microsoft's Copilot Approach\n",
    "An example of handling this responsibly is Microsoft's new Copilot capabilities, where user queries are answered exclusively using their specific knowledge graph. This limits what the model sees and can therefore present, ensuring that only data relevant to the user is shown."
   ]
  },
  {
   "cell_type": "markdown",
   "id": "c77993b7",
   "metadata": {},
   "source": [
    "## Limitations of the Model\n",
    "Although this approach mitigates risks, it's not entirely foolproof. If the knowledge graph doesn't contain accurate data, there could still be issues. However, limiting what the model can see is a good practice as it confines any mistakes or hallucinations to the data that's been given to it."
   ]
  },
  {
   "cell_type": "markdown",
   "id": "8ec79363",
   "metadata": {},
   "source": [
    "# Section 2: Useful Use Cases in InfoSec"
   ]
  },
  {
   "cell_type": "markdown",
   "id": "826e0ea4",
   "metadata": {},
   "source": [
    "## 2.1 Introduction\n",
    "\n",
    "In this section, we'll discuss potential use cases of generative AI in the field of Information Security (InfoSec). Generative AI can be a powerful tool for both defenders and attackers. Given the novelty of this field, the examples presented here serve as a starting point rather than an exhaustive list. The aim is to provide a framework for exploring potential applications of this technology in InfoSec."
   ]
  },
  {
   "cell_type": "markdown",
   "id": "dfb988a7",
   "metadata": {},
   "source": [
    "## 2.2 Types of Use Cases for Generative AI\n",
    "\n",
    "Generative AI can perform several tasks:\n",
    "\n",
    "1. **Summarization**: The AI takes a large amount of text or information and provides a concise summary.\n",
    "\n",
    "2. **Expansion**: The AI is given a question or a task and it expands on it, for example, writing a report.\n",
    "\n",
    "3. **Inference**: The AI makes sense of the data provided.\n",
    "\n",
    "4. **Transformation**: The AI takes different datasets and transforms them into something else.\n",
    "\n",
    "Let's explore some of these use cases in various InfoSec domains."
   ]
  },
  {
   "cell_type": "markdown",
   "id": "240bb458",
   "metadata": {},
   "source": [
    "## 2.3 Applications Across InfoSec Domains\n",
    "\n",
    "Application security, cloud security, platform security, security operations, governance risk and compliance, data security, identity access management, penetration testing and red teaming - all these areas could benefit from generative AI. The applications could involve summarization, expansion, inference, or transformation of data.\n",
    "\n",
    "|                    | Summarise | Expand | Infer | Transform |\n",
    "|--------------------|-----------|--------|-------|-----------|\n",
    "| AppSec             |           |        |       |           |\n",
    "| CloudSec           |           |        |       |           |\n",
    "| SecOps             |           |        |       |           |\n",
    "| GRC                |           |        |       |           |\n",
    "| Data Security      |           |        |       |           |\n",
    "| IAM                |           |        |       |           |\n",
    "| Penetration Testing|           |        |       |           |\n"
   ]
  },
  {
   "cell_type": "markdown",
   "id": "3e2c845c",
   "metadata": {},
   "source": [
    "## 2.4 Use Case 1: InfoSec Knowledge Base\n",
    "\n",
    "One of the primary use cases of generative AI is in the creation of an InfoSec knowledge base. A model could be trained on security policies, best practices, and internal knowledge documents. This would allow people to access information more quickly, reducing distractions for the InfoSec team."
   ]
  },
  {
   "cell_type": "markdown",
   "id": "9ff502bf",
   "metadata": {},
   "source": [
    "## 2.5 Use Case 2: Building Large Knowledge Bases\n",
    "\n",
    "Generative AI can be used to build large knowledge bases, such as the OWASP web application testing guide. By creating a model trained on existing documentation and research, you could generate an outline of what you want to expand upon. A script could then go through every heading in the outline, writing each section and subsection."
   ]
  },
  {
   "cell_type": "markdown",
   "id": "414c4617",
   "metadata": {},
   "source": [
    "## 2.6 Use Case 3: Static Code Analysis - Remediation Recommendations\n",
    "The first use case I've personally explored involved combining generative AI with a security tool, such as a static code analysis tool like Semgrep or CodeQL. The tool scans the source code and known vulnerable code. For each identified vulnerability, the AI recommends remediation. It receives the code snippet, understands the vulnerability type, and provides the developer with a walkthrough of the vulnerability and a recommended remediation. Once the remediation is applied, the scan is rerun to check if the issue was resolved. \n",
    "\n",
    "In a proof-of-concept exercise, I observed a reduction in vulnerabilities from 46 to 14. There were a few cases where the AI removed important code lines or fixed a problem but missed adding necessary library dependencies, leading to non-functional code. These are teething issues that could be addressed over time as the system is fine-tuned.\n",
    "\n",
    "Generative AI in this context can potentially reduce the mean time to remediation. It could raise issues complete with detailed remediation steps and references to cheat sheets, making it more actionable for developers. It's essential to mention that using AI to auto-remediate is currently not recommended as AI models still lack a perfect understanding of the world and may sometimes produce erroneous output.\n"
   ]
  },
  {
   "cell_type": "markdown",
   "id": "ffc65cad",
   "metadata": {},
   "source": [
    "## 2.7 Use Case 4: Security Operations\n",
    "In the realm of security operations, we can envision a scenario where automation is built into a Security Orchestration, Automation and Response (SOAR) platform. With a risk-based reporting mechanism in place, a significant amount of data could be fed into a single case for an initial pass or investigation.\n",
    "\n",
    "Companies like Google and Microsoft have been researching creating their own versions of large language models embedded with extensive threat intelligence and security operations data to serve this purpose. Such a model can make it easier for an analyst to get an initial review of a security incident. It could also be used as an additional risk ranking indicator or provide a draft summary for the analyst, saving time and effort in the investigation process.\n",
    "\n",
    "These benefits aren't restricted to InfoSec; they can be extended to general production incidents. By automating parts of a playbook, AI can provide initial summaries to analysts, saving valuable time and effort during an investigation."
   ]
  },
  {
   "cell_type": "markdown",
   "id": "24333d86",
   "metadata": {},
   "source": [
    "## 2.8 Conclusion\n",
    "\n",
    "Generative AI can accelerate the creation of drafts that would take years to develop otherwise. It eliminates the intimidation of a blank canvas and reduces the time required for research. I have personally found it invaluable in creating this very slide deck."
   ]
  },
  {
   "cell_type": "markdown",
   "id": "629f6364",
   "metadata": {},
   "source": [
    "# Section 3: Malicious Use Cases\n",
    "\n",
    "In this section, we'll discuss potential malicious use cases of generative AI technology. Given the significant power of this technology, it's important to consider the potential risks and abuses. We'll explore this in the context of application security, personal privacy, fraud, malware creation, disinformation, and social abuse. "
   ]
  },
  {
   "cell_type": "markdown",
   "id": "9edddf20",
   "metadata": {},
   "source": [
    "## 3.1 Application Security and Privacy Concerns\n",
    "\n",
    "With the advent of AI and bot-managed accounts, there's an urgent need for better solutions to differentiate between human and non-human generated content, especially media content. Various scenarios, such as bot-managed accounts, human accounts with some bot-generated content, and human accounts sharing bot-generated content, pose significant challenges to both privacy and security. \n",
    "\n",
    "It's critical that the right balance be struck between user privacy and bot detection. In certain situations, providing too much information about users might jeopardize their privacy more than it would solve the bot problem. In simple terms, it should be as straightforward as verifying whether a person is of drinking age.\n",
    "\n",
    "Technology also brings unique challenges. For example, current phone technologies do not differentiate between a legitimate user and a software impersonating a user."
   ]
  },
  {
   "cell_type": "markdown",
   "id": "adc2f1e4",
   "metadata": {},
   "source": [
    "## 3.2 Fraud\n",
    "\n",
    "Attackers can leverage generative AI to commit fraud. AI has advanced to a point where it can mimic voice and writing tones convincingly. This could lead to advanced spear-phishing attacks and convincing voice interactions that could result in substantial fraud. [Companies like Spotify](https://www.ft.com/content/b6802c8f-50e7-4df8-8682-cca794881e30) are already witnessing this. They reported removing AI-synthetically created songs from their platform due to copyright implications. ![](spotify.png)"
   ]
  },
  {
   "cell_type": "markdown",
   "id": "9e7141c9",
   "metadata": {},
   "source": [
    "## 3.3 Malware Creation and Exploit Development\n",
    "\n",
    "Generative AI, given its strong capabilities in transformation and inference, can aid attackers in creating more sophisticated malware or exploits. Some experts argue that the technology is not necessary for generating malware variants, but the easy availability and capabilities of generative AI may lower the barrier of entry for less skilled attackers."
   ]
  },
  {
   "cell_type": "markdown",
   "id": "a8a09e0f",
   "metadata": {},
   "source": [
    "## 3.4 Disinformation\n",
    "\n",
    "Generative AI is powerful at creating vast amounts of content, which can be exploited for spreading disinformation. Websites [like Wikipedia ](https://www.vice.com/en/article/v7bdba/ai-is-tearing-wikipedia-apart)have already experienced challenges from bot attacks aimed at spreading misinformation. This threat is expected to grow with the advancement of AI technology. \n",
    "\n",
    "![](wikipedia.png)"
   ]
  },
  {
   "cell_type": "markdown",
   "id": "c389ebcc",
   "metadata": {},
   "source": [
    "## 3.5 Social Abuse\n",
    "\n",
    "Social media platforms have already been dealing with issues related to bullying and abuse, which are expected to worsen with generative AI. The technology, without safety filters, poses a real risk of exacerbating abuse, especially when coupled with technologies like deepfakes. This can have serious consequences, as seen in cases where victims, particularly young people, have been driven to depression and suicide due to such abuses. It's therefore critical to have checks and balances in place to mitigate these risks."
   ]
  },
  {
   "cell_type": "markdown",
   "id": "37dc744d",
   "metadata": {},
   "source": [
    "# Section 4: Risks to An Organisation and Next Steps\n",
    "In this section, we will discuss the potential risks that generative AI poses to organizations and what steps can be taken to mitigate these risks."
   ]
  },
  {
   "cell_type": "markdown",
   "id": "7dcfc85b",
   "metadata": {},
   "source": [
    "## 4.1 Defending Against Data Leaks\n",
    "\n",
    "As generative AI continues to advance, organizations must protect themselves against the accidental leaking of sensitive company data into large language models. It's also critical to provide acceptable alternatives for employees to maintain productivity. Prioritizing data protection and data security controls should be a key concern. As part of this, organizations need to update their policies to adapt to these emerging technologies."
   ]
  },
  {
   "cell_type": "markdown",
   "id": "503fdbcc",
   "metadata": {},
   "source": [
    "## 4.2 Mitigating Bot Activity\n",
    "\n",
    "As attackers begin to utilize generative technologies, it's vital to continuously update bot mitigation controls. This might involve changes to edge protection layers or even require design alterations to web applications. This could include the implementation of security measures such as CAPTCHAs, Multi-Factor Authentication (MFA), or user confirmations to verify and prevent bot activities."
   ]
  },
  {
   "cell_type": "markdown",
   "id": "78eccd46",
   "metadata": {},
   "source": [
    "## 4.3 Best Practices for Developers\n",
    "\n",
    "Developers should be aware of how to protect against prompt injections and limit unauthorized access to customer data. Ensuring secure coding practices and regular security training is essential."
   ]
  },
  {
   "cell_type": "markdown",
   "id": "76026a0d",
   "metadata": {},
   "source": [
    "## 4.4 Data Security in Machine Learning\n",
    "\n",
    "For teams working on machine learning infrastructure, a key focus should be the security of the data supply chain. This includes understanding how data is sourced, generated, and ensuring its secure use. Data classification, usage, and overall governance will be paramount, especially when considering the data lifecycle and potential needs to remove and retrain models on different data."
   ]
  },
  {
   "cell_type": "markdown",
   "id": "c2a77fac",
   "metadata": {},
   "source": [
    "## 4.5 Considerations for the Wider Community\n",
    "\n",
    "For the wider community, the focus should be on establishing open-source tools and best practices. This could include safety models and frameworks that large language model developers can easily incorporate into their software. Engaging with government entities to encourage good behavior and foundational technology changes is also important."
   ]
  },
  {
   "cell_type": "markdown",
   "id": "c644ba84",
   "metadata": {},
   "source": [
    "## 4.6 Adoption of Controls and Continuous Learning\n",
    "\n",
    "Once legal and technological controls are developed, the next step is to adopt them and continuously learn from their usage. Feedback and iteration on these controls are necessary to ensure they remain fit for purpose, adapting to any emergent changes as the technology evolves. \n",
    "\n",
    "With the early stages of generative AI, these practices are crucial to managing the risks and harnessing the benefits of the technology."
   ]
  },
  {
   "cell_type": "markdown",
   "id": "8129ebb8",
   "metadata": {},
   "source": [
    "# Section 5: Conclusion - The Posibilities of Generative AI"
   ]
  },
  {
   "cell_type": "markdown",
   "id": "aabd3299",
   "metadata": {},
   "source": []
  },
  {
   "cell_type": "markdown",
   "id": "165ba187",
   "metadata": {},
   "source": [
    "# Apendix InfoSec Use Case Table\n",
    "\n",
    "|                    | Summarise                                          | Expand                                           | Infer                                           | Transform                                         |\n",
    "|--------------------|----------------------------------------------------|--------------------------------------------------|-------------------------------------------------|---------------------------------------------------|\n",
    "| AppSec             | 1. Summarise code reviews<br>2. Summarise security reports<br>3. Summarise vulnerability scan results  | 1. Expand on a threat model<br>2. Expand on security requirements<br>3. Expand on security design    | 1. Infer risks from code<br>2. Infer potential security gaps<br>3. Infer the severity of a vulnerability | 1. Transform app architecture for better security<br>2. Transform security logs for better readability<br>3. Transform security policies into code |\n",
    "| CloudSec           | 1. Summarise cloud config changes<br>2. Summarise cloud security posture<br>3. Summarise IAM policy changes | 1. Expand on a cloud architecture design<br>2. Expand on cloud security controls<br>3. Expand on cloud migration strategies | 1. Infer security threats from cloud metadata<br>2. Infer potential cloud misconfigurations<br>3. Infer the impact of cloud config changes | 1. Transform cloud security data into visual graphs<br>2. Transform cloud logs into threat alerts<br>3. Transform cloud IAM policies |\n",
    "| SecOps             | 1. Summarise security incidents<br>2. Summarise threat intelligence feeds<br>3. Summarise operational metrics | 1. Expand on incident response plans<br>2. Expand on threat hunting activities<br>3. Expand on SOAR workflows | 1. Infer attacks from log data<br>2. Infer threat actors from incident data<br>3. Infer the root cause of a security incident | 1. Transform logs into threat intelligence<br>2. Transform threat data into actionable tasks<br>3. Transform alert data into prioritised incidents |\n",
    "| GRC                | 1. Summarise regulatory changes<br>2. Summarise audit findings<br>3. Summarise risk assessments | 1. Expand on a compliance program<br>2. Expand on risk management strategies<br>3. Expand on policy enforcement procedures | 1. Infer risk from compliance data<br>2. Infer potential violations from audit data<br>3. Infer the impact of regulatory changes | 1. Transform compliance requirements into actionable tasks<br>2. Transform risk data into risk reports<br>3. Transform audit findings into remediation plans |\n",
    "| Data Security      | 1. Summarise data loss incidents<br>2. Summarise data classification results<br>3. Summarise DLP alerts | 1. Expand on a data security strategy<br>2. Expand on data classification schemas<br>3. Expand on data loss prevention policies | 1. Infer sensitive data locations from data metadata<br>2. Infer potential data leaks from DLP data<br>3. Infer the risk of data sharing practices | 1. Transform data access logs into user behavior profiles<br>2. Transform sensitive data into anonymised data<br>3. Transform unstructured data into structured data |\n",
    "| IAM                | 1. Summarise access review findings<br>2. Summarise role changes<br>3. Summarise privilege escalations | 1. Expand on an IAM architecture<br>2. Expand on access control policies<br>3. Expand on privilege management procedures | 1. Infer potential insider threats from IAM data<br>2. Infer excessive permissions from access data<br>3. Infer the risk of access requests | 1. Transform user activity data into access review reports<br>2. Transform roles into access matrices<br>3. Transform identity data into user profiles |\n",
    "| Penetration Testing| 1. Summarise penetration test findings<br>2. Summarise vulnerability data<br>3. Summarise social engineering test results | 1. Expand on a penetration test plan<br>2. Expand on an attack scenario<br>3. Expand on exploit development | 1. Infer potential attack vectors from network data<br>2. Infer vulnerable systems from scan data<br>3. Infer the effectiveness of security controls from test data | 1. Transform network data into attack graphs<br>2. Transform vulnerability data into prioritised remediation tasks<br>3. Transform penetration test data into security recommendations |\n"
   ]
  },
  {
   "cell_type": "code",
   "execution_count": null,
   "id": "e47e1e7f",
   "metadata": {},
   "outputs": [],
   "source": []
  }
 ],
 "metadata": {
  "kernelspec": {
   "display_name": "Python 3 (ipykernel)",
   "language": "python",
   "name": "python3"
  },
  "language_info": {
   "codemirror_mode": {
    "name": "ipython",
    "version": 3
   },
   "file_extension": ".py",
   "mimetype": "text/x-python",
   "name": "python",
   "nbconvert_exporter": "python",
   "pygments_lexer": "ipython3",
   "version": "3.11.2"
  }
 },
 "nbformat": 4,
 "nbformat_minor": 5
}
